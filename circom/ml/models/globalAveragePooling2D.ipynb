{
 "cells": [
  {
   "cell_type": "code",
   "execution_count": 1,
   "metadata": {},
   "outputs": [],
   "source": [
    "from tensorflow.keras.layers import Input, GlobalAveragePooling2D\n",
    "from tensorflow.keras import Model\n",
    "import numpy as np"
   ]
  },
  {
   "cell_type": "code",
   "execution_count": 2,
   "metadata": {},
   "outputs": [],
   "source": [
    "inputs = Input(shape=(5,5,3))\n",
    "out = GlobalAveragePooling2D()(inputs)\n",
    "model = Model(inputs, out)"
   ]
  },
  {
   "cell_type": "code",
   "execution_count": 3,
   "metadata": {},
   "outputs": [
    {
     "name": "stdout",
     "output_type": "stream",
     "text": [
      "Model: \"model\"\n",
      "_________________________________________________________________\n",
      "Layer (type)                 Output Shape              Param #   \n",
      "=================================================================\n",
      "input_1 (InputLayer)         [(None, 5, 5, 3)]         0         \n",
      "_________________________________________________________________\n",
      "global_average_pooling2d (Gl (None, 3)                 0         \n",
      "=================================================================\n",
      "Total params: 0\n",
      "Trainable params: 0\n",
      "Non-trainable params: 0\n",
      "_________________________________________________________________\n"
     ]
    }
   ],
   "source": [
    "model.summary()"
   ]
  },
  {
   "cell_type": "code",
   "execution_count": 4,
   "metadata": {},
   "outputs": [
    {
     "data": {
      "text/plain": [
       "array([[[[0.75026257, 0.78298092, 0.96781344],\n",
       "         [0.32235377, 0.89150794, 0.04706537],\n",
       "         [0.91958291, 0.95572218, 0.01006833],\n",
       "         [0.60887321, 0.67452346, 0.9722854 ],\n",
       "         [0.47488548, 0.08846556, 0.15469522]],\n",
       "\n",
       "        [[0.4964009 , 0.56350259, 0.86448218],\n",
       "         [0.12851276, 0.26571101, 0.11222685],\n",
       "         [0.15848715, 0.69473995, 0.45558278],\n",
       "         [0.36135735, 0.77453115, 0.94767797],\n",
       "         [0.54757355, 0.3529423 , 0.7502107 ]],\n",
       "\n",
       "        [[0.23254084, 0.13915902, 0.62088772],\n",
       "         [0.91802735, 0.18125181, 0.82032438],\n",
       "         [0.08115132, 0.47008071, 0.11862867],\n",
       "         [0.93358649, 0.82824588, 0.84168659],\n",
       "         [0.62363021, 0.38914314, 0.13280334]],\n",
       "\n",
       "        [[0.84657932, 0.80405209, 0.59412592],\n",
       "         [0.56584756, 0.10237339, 0.21217235],\n",
       "         [0.31526466, 0.21418521, 0.51236233],\n",
       "         [0.42648049, 0.01163492, 0.09296196],\n",
       "         [0.97516359, 0.45381077, 0.70935164]],\n",
       "\n",
       "        [[0.68801577, 0.34860446, 0.25255818],\n",
       "         [0.15228667, 0.16675365, 0.25885748],\n",
       "         [0.46006891, 0.9028665 , 0.77014467],\n",
       "         [0.52331235, 0.54846645, 0.39861399],\n",
       "         [0.83559747, 0.48153349, 0.93005651]]]])"
      ]
     },
     "execution_count": 4,
     "metadata": {},
     "output_type": "execute_result"
    }
   ],
   "source": [
    "X = np.random.rand(1,5,5,3)\n",
    "X"
   ]
  },
  {
   "cell_type": "code",
   "execution_count": 5,
   "metadata": {},
   "outputs": [
    {
     "data": {
      "text/plain": [
       "array([[0.53383374, 0.4834715 , 0.5019058 ]], dtype=float32)"
      ]
     },
     "execution_count": 5,
     "metadata": {},
     "output_type": "execute_result"
    }
   ],
   "source": [
    "y = model.predict(X)\n",
    "y"
   ]
  },
  {
   "cell_type": "code",
   "execution_count": 6,
   "metadata": {},
   "outputs": [],
   "source": [
    "in_json = {\n",
    "    \"in\": (X*1000).round().astype(int).flatten().tolist()\n",
    "}"
   ]
  },
  {
   "cell_type": "code",
   "execution_count": 7,
   "metadata": {},
   "outputs": [],
   "source": [
    "out_json = {\n",
    "    \"out\": (y*1000*100).round().astype(int).flatten().tolist()\n",
    "}"
   ]
  },
  {
   "cell_type": "code",
   "execution_count": 8,
   "metadata": {},
   "outputs": [],
   "source": [
    "import json"
   ]
  },
  {
   "cell_type": "code",
   "execution_count": 9,
   "metadata": {},
   "outputs": [],
   "source": [
    "with open(\"globalAveragePooling2D_input.json\", \"w\") as f:\n",
    "    json.dump(in_json, f)"
   ]
  },
  {
   "cell_type": "code",
   "execution_count": 10,
   "metadata": {},
   "outputs": [],
   "source": [
    "with open(\"globalAveragePooling2D_output.json\", \"w\") as f:\n",
    "    json.dump(out_json, f)"
   ]
  }
 ],
 "metadata": {
  "kernelspec": {
   "display_name": "tf24",
   "language": "python",
   "name": "tf24"
  },
  "language_info": {
   "codemirror_mode": {
    "name": "ipython",
    "version": 3
   },
   "file_extension": ".py",
   "mimetype": "text/x-python",
   "name": "python",
   "nbconvert_exporter": "python",
   "pygments_lexer": "ipython3",
   "version": "3.8.6"
  },
  "orig_nbformat": 4
 },
 "nbformat": 4,
 "nbformat_minor": 2
}
