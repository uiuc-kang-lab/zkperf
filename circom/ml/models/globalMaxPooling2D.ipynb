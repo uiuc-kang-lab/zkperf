{
 "cells": [
  {
   "cell_type": "code",
   "execution_count": 1,
   "metadata": {},
   "outputs": [],
   "source": [
    "from tensorflow.keras.layers import Input, GlobalMaxPooling2D\n",
    "from tensorflow.keras import Model\n",
    "import numpy as np"
   ]
  },
  {
   "cell_type": "code",
   "execution_count": 2,
   "metadata": {},
   "outputs": [],
   "source": [
    "inputs = Input(shape=(5,5,3))\n",
    "x = GlobalMaxPooling2D()(inputs)\n",
    "model = Model(inputs, x)"
   ]
  },
  {
   "cell_type": "code",
   "execution_count": 3,
   "metadata": {},
   "outputs": [
    {
     "name": "stdout",
     "output_type": "stream",
     "text": [
      "Model: \"model\"\n",
      "_________________________________________________________________\n",
      "Layer (type)                 Output Shape              Param #   \n",
      "=================================================================\n",
      "input_1 (InputLayer)         [(None, 5, 5, 3)]         0         \n",
      "_________________________________________________________________\n",
      "global_max_pooling2d (Global (None, 3)                 0         \n",
      "=================================================================\n",
      "Total params: 0\n",
      "Trainable params: 0\n",
      "Non-trainable params: 0\n",
      "_________________________________________________________________\n"
     ]
    }
   ],
   "source": [
    "model.summary()"
   ]
  },
  {
   "cell_type": "code",
   "execution_count": 4,
   "metadata": {},
   "outputs": [
    {
     "data": {
      "text/plain": [
       "array([[[[0.32466035, 0.98252793, 0.44400143],\n",
       "         [0.84845853, 0.19442104, 0.59510471],\n",
       "         [0.44089874, 0.15830311, 0.72414619],\n",
       "         [0.67081125, 0.00734799, 0.67856931],\n",
       "         [0.55140412, 0.46201941, 0.6070781 ]],\n",
       "\n",
       "        [[0.93564932, 0.20329226, 0.82119732],\n",
       "         [0.96698972, 0.93135353, 0.63006489],\n",
       "         [0.42358955, 0.30340362, 0.90993389],\n",
       "         [0.63976257, 0.1406262 , 0.22038059],\n",
       "         [0.94295376, 0.91868854, 0.28490443]],\n",
       "\n",
       "        [[0.22116569, 0.23807312, 0.14799033],\n",
       "         [0.27190278, 0.89536995, 0.53043589],\n",
       "         [0.53038256, 0.69774341, 0.43229638],\n",
       "         [0.22129893, 0.45845914, 0.80878986],\n",
       "         [0.14265615, 0.21502123, 0.90049627]],\n",
       "\n",
       "        [[0.05753169, 0.64384457, 0.21423554],\n",
       "         [0.21892986, 0.43545047, 0.30016867],\n",
       "         [0.45103494, 0.41946604, 0.15388892],\n",
       "         [0.83526323, 0.83552575, 0.38730236],\n",
       "         [0.67391823, 0.84635641, 0.41258421]],\n",
       "\n",
       "        [[0.75021931, 0.77485261, 0.57189854],\n",
       "         [0.74505654, 0.9464458 , 0.73346162],\n",
       "         [0.41600983, 0.04725781, 0.36665437],\n",
       "         [0.71862184, 0.46074702, 0.12424663],\n",
       "         [0.61020934, 0.17278885, 0.94038123]]]])"
      ]
     },
     "execution_count": 4,
     "metadata": {},
     "output_type": "execute_result"
    }
   ],
   "source": [
    "X = np.random.rand(1,5,5,3)\n",
    "X"
   ]
  },
  {
   "cell_type": "code",
   "execution_count": 5,
   "metadata": {},
   "outputs": [
    {
     "data": {
      "text/plain": [
       "array([[0.9669897, 0.9825279, 0.9403812]], dtype=float32)"
      ]
     },
     "execution_count": 5,
     "metadata": {},
     "output_type": "execute_result"
    }
   ],
   "source": [
    "y = model.predict(X)\n",
    "y"
   ]
  },
  {
   "cell_type": "code",
   "execution_count": 6,
   "metadata": {},
   "outputs": [],
   "source": [
    "in_json = {\n",
    "    \"in\": (X*1000).round().astype(int).flatten().tolist()\n",
    "}"
   ]
  },
  {
   "cell_type": "code",
   "execution_count": 7,
   "metadata": {},
   "outputs": [],
   "source": [
    "out_json = {\n",
    "    \"out\": (y*1000).round().astype(int).flatten().tolist()\n",
    "}"
   ]
  },
  {
   "cell_type": "code",
   "execution_count": 8,
   "metadata": {},
   "outputs": [],
   "source": [
    "import json"
   ]
  },
  {
   "cell_type": "code",
   "execution_count": 9,
   "metadata": {},
   "outputs": [],
   "source": [
    "with open(\"globalMaxPooling2D_input.json\", \"w\") as f:\n",
    "    json.dump(in_json, f)"
   ]
  },
  {
   "cell_type": "code",
   "execution_count": 10,
   "metadata": {},
   "outputs": [],
   "source": [
    "with open(\"globalMaxPooling2D_output.json\", \"w\") as f:\n",
    "    json.dump(out_json, f)"
   ]
  }
 ],
 "metadata": {
  "kernelspec": {
   "display_name": "tf24",
   "language": "python",
   "name": "tf24"
  },
  "language_info": {
   "codemirror_mode": {
    "name": "ipython",
    "version": 3
   },
   "file_extension": ".py",
   "mimetype": "text/x-python",
   "name": "python",
   "nbconvert_exporter": "python",
   "pygments_lexer": "ipython3",
   "version": "3.8.6"
  },
  "orig_nbformat": 4
 },
 "nbformat": 4,
 "nbformat_minor": 2
}
