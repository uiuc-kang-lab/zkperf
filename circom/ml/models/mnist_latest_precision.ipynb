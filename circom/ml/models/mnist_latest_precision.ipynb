{
 "cells": [
  {
   "cell_type": "code",
   "execution_count": 1,
   "metadata": {},
   "outputs": [],
   "source": [
    "from tensorflow.keras.layers import Input, Conv2D, AveragePooling2D, Flatten, Softmax, Dense, Lambda, BatchNormalization, ReLU\n",
    "from tensorflow.keras import Model\n",
    "from tensorflow.keras.datasets import mnist\n",
    "from tensorflow.keras.utils import to_categorical\n",
    "from tensorflow.keras.optimizers import SGD\n",
    "import numpy as np\n",
    "import matplotlib.pyplot as plt\n",
    "import tensorflow as tf"
   ]
  },
  {
   "cell_type": "code",
   "execution_count": 2,
   "metadata": {},
   "outputs": [],
   "source": [
    "(X_train, y_train), (X_test, y_test) = mnist.load_data()"
   ]
  },
  {
   "cell_type": "code",
   "execution_count": 3,
   "metadata": {},
   "outputs": [],
   "source": [
    "# Convert y_train into one-hot format\n",
    "temp = []\n",
    "for i in range(len(y_train)):\n",
    "    temp.append(to_categorical(y_train[i], num_classes=10))\n",
    "y_train = np.array(temp)\n",
    "# Convert y_test into one-hot format\n",
    "temp = []\n",
    "for i in range(len(y_test)):    \n",
    "    temp.append(to_categorical(y_test[i], num_classes=10))\n",
    "y_test = np.array(temp)"
   ]
  },
  {
   "cell_type": "code",
   "execution_count": 4,
   "metadata": {},
   "outputs": [],
   "source": [
    "#reshaping\n",
    "X_train = X_train.reshape(X_train.shape[0], 28, 28, 1)\n",
    "X_test = X_test.reshape(X_test.shape[0], 28, 28, 1)"
   ]
  },
  {
   "cell_type": "code",
   "execution_count": 5,
   "metadata": {},
   "outputs": [],
   "source": [
    "inputs = Input(shape=(28,28,1))\n",
    "out = Lambda(lambda x: x/1000)(inputs)\n",
    "out = Conv2D(4, 3, use_bias=False)(out)\n",
    "out = BatchNormalization()(out)\n",
    "out = ReLU()(out)\n",
    "# out = Lambda(lambda x: x**2+x)(out)\n",
    "out = AveragePooling2D()(out)\n",
    "# out = Lambda(lambda x: x*4)(out)\n",
    "out = Conv2D(8, 3, use_bias=False)(out)\n",
    "out = BatchNormalization()(out)\n",
    "out = ReLU()(out)\n",
    "# out = Lambda(lambda x: x**2+x)(out)\n",
    "out = AveragePooling2D()(out)\n",
    "# out = Lambda(lambda x: x*4)(out)\n",
    "out = Flatten()(out)\n",
    "out = Dense(10, activation=None)(out)\n",
    "out = Softmax()(out)\n",
    "model = Model(inputs, out)"
   ]
  },
  {
   "cell_type": "code",
   "execution_count": 6,
   "metadata": {},
   "outputs": [
    {
     "name": "stdout",
     "output_type": "stream",
     "text": [
      "Model: \"model\"\n",
      "_________________________________________________________________\n",
      "Layer (type)                 Output Shape              Param #   \n",
      "=================================================================\n",
      "input_1 (InputLayer)         [(None, 28, 28, 1)]       0         \n",
      "_________________________________________________________________\n",
      "lambda (Lambda)              (None, 28, 28, 1)         0         \n",
      "_________________________________________________________________\n",
      "conv2d (Conv2D)              (None, 26, 26, 4)         36        \n",
      "_________________________________________________________________\n",
      "batch_normalization (BatchNo (None, 26, 26, 4)         16        \n",
      "_________________________________________________________________\n",
      "re_lu (ReLU)                 (None, 26, 26, 4)         0         \n",
      "_________________________________________________________________\n",
      "average_pooling2d (AveragePo (None, 13, 13, 4)         0         \n",
      "_________________________________________________________________\n",
      "conv2d_1 (Conv2D)            (None, 11, 11, 8)         288       \n",
      "_________________________________________________________________\n",
      "batch_normalization_1 (Batch (None, 11, 11, 8)         32        \n",
      "_________________________________________________________________\n",
      "re_lu_1 (ReLU)               (None, 11, 11, 8)         0         \n",
      "_________________________________________________________________\n",
      "average_pooling2d_1 (Average (None, 5, 5, 8)           0         \n",
      "_________________________________________________________________\n",
      "flatten (Flatten)            (None, 200)               0         \n",
      "_________________________________________________________________\n",
      "dense (Dense)                (None, 10)                2010      \n",
      "_________________________________________________________________\n",
      "softmax (Softmax)            (None, 10)                0         \n",
      "=================================================================\n",
      "Total params: 2,382\n",
      "Trainable params: 2,358\n",
      "Non-trainable params: 24\n",
      "_________________________________________________________________\n"
     ]
    }
   ],
   "source": [
    "model.summary()"
   ]
  },
  {
   "cell_type": "code",
   "execution_count": 7,
   "metadata": {},
   "outputs": [],
   "source": [
    "model.compile(\n",
    "    loss='categorical_crossentropy',\n",
    "    optimizer=SGD(learning_rate=0.01, momentum=0.9),\n",
    "    metrics=['acc']\n",
    "    )"
   ]
  },
  {
   "cell_type": "code",
   "execution_count": 8,
   "metadata": {},
   "outputs": [
    {
     "name": "stdout",
     "output_type": "stream",
     "text": [
      "Epoch 1/15\n",
      "1875/1875 [==============================] - 3s 2ms/step - loss: 0.3734 - acc: 0.8874 - val_loss: 0.1168 - val_acc: 0.9623\n",
      "Epoch 2/15\n",
      "1875/1875 [==============================] - 3s 2ms/step - loss: 0.0823 - acc: 0.9748 - val_loss: 0.0758 - val_acc: 0.9772\n",
      "Epoch 3/15\n",
      "1875/1875 [==============================] - 3s 2ms/step - loss: 0.0648 - acc: 0.9811 - val_loss: 0.0640 - val_acc: 0.9791\n",
      "Epoch 4/15\n",
      "1875/1875 [==============================] - 3s 2ms/step - loss: 0.0591 - acc: 0.9815 - val_loss: 0.0520 - val_acc: 0.9835\n",
      "Epoch 5/15\n",
      "1875/1875 [==============================] - 3s 1ms/step - loss: 0.0511 - acc: 0.9853 - val_loss: 0.0530 - val_acc: 0.9814\n",
      "Epoch 6/15\n",
      "1875/1875 [==============================] - 3s 1ms/step - loss: 0.0472 - acc: 0.9857 - val_loss: 0.0537 - val_acc: 0.9835\n",
      "Epoch 7/15\n",
      "1875/1875 [==============================] - 3s 2ms/step - loss: 0.0456 - acc: 0.9855 - val_loss: 0.0429 - val_acc: 0.9853\n",
      "Epoch 8/15\n",
      "1875/1875 [==============================] - 3s 1ms/step - loss: 0.0425 - acc: 0.9870 - val_loss: 0.0453 - val_acc: 0.9862\n",
      "Epoch 9/15\n",
      "1875/1875 [==============================] - 3s 1ms/step - loss: 0.0436 - acc: 0.9868 - val_loss: 0.0420 - val_acc: 0.9861\n",
      "Epoch 10/15\n",
      "1875/1875 [==============================] - 4s 2ms/step - loss: 0.0386 - acc: 0.9884 - val_loss: 0.0430 - val_acc: 0.9857\n",
      "Epoch 11/15\n",
      "1875/1875 [==============================] - 4s 2ms/step - loss: 0.0396 - acc: 0.9876 - val_loss: 0.0436 - val_acc: 0.9851\n",
      "Epoch 12/15\n",
      "1875/1875 [==============================] - 3s 1ms/step - loss: 0.0369 - acc: 0.9884 - val_loss: 0.0514 - val_acc: 0.9839\n",
      "Epoch 13/15\n",
      "1875/1875 [==============================] - 3s 1ms/step - loss: 0.0343 - acc: 0.9891 - val_loss: 0.0428 - val_acc: 0.9852\n",
      "Epoch 14/15\n",
      "1875/1875 [==============================] - 3s 2ms/step - loss: 0.0352 - acc: 0.9893 - val_loss: 0.0383 - val_acc: 0.9871\n",
      "Epoch 15/15\n",
      "1875/1875 [==============================] - 3s 2ms/step - loss: 0.0337 - acc: 0.9898 - val_loss: 0.0386 - val_acc: 0.9875\n"
     ]
    },
    {
     "data": {
      "text/plain": [
       "<tensorflow.python.keras.callbacks.History at 0x17ffb3e80>"
      ]
     },
     "execution_count": 8,
     "metadata": {},
     "output_type": "execute_result"
    }
   ],
   "source": [
    "model.fit(X_train, y_train, epochs=15, batch_size=32, validation_data=(X_test, y_test))"
   ]
  },
  {
   "cell_type": "code",
   "execution_count": 9,
   "metadata": {},
   "outputs": [
    {
     "data": {
      "text/plain": [
       "((28, 28, 1), 0, 255)"
      ]
     },
     "execution_count": 9,
     "metadata": {},
     "output_type": "execute_result"
    }
   ],
   "source": [
    "X = X_test[0]\n",
    "X.shape, X.min(), X.max()"
   ]
  },
  {
   "cell_type": "code",
   "execution_count": 10,
   "metadata": {},
   "outputs": [],
   "source": [
    "model2 = Model(model.input, model.layers[-2].output)"
   ]
  },
  {
   "cell_type": "code",
   "execution_count": 11,
   "metadata": {},
   "outputs": [],
   "source": [
    "y = model2.predict(X_test[[0]]) - model.layers[-2].weights[1].numpy()"
   ]
  },
  {
   "cell_type": "code",
   "execution_count": 12,
   "metadata": {},
   "outputs": [
    {
     "name": "stdout",
     "output_type": "stream",
     "text": [
      "12\n",
      "(3, 3, 1, 4)\n",
      "(4,)\n",
      "(4,)\n",
      "(4,)\n",
      "(4,)\n",
      "(3, 3, 4, 8)\n",
      "(8,)\n",
      "(8,)\n",
      "(8,)\n",
      "(8,)\n",
      "(200, 10)\n",
      "(10,)\n"
     ]
    }
   ],
   "source": [
    "print(len(model.weights))\n",
    "for weights in model.weights:\n",
    "    print(weights.shape)"
   ]
  },
  {
   "cell_type": "code",
   "execution_count": 13,
   "metadata": {},
   "outputs": [],
   "source": [
    "gamma = model.layers[3].weights[0].numpy()\n",
    "beta = model.layers[3].weights[1].numpy()\n",
    "moving_mean = model.layers[3].weights[2].numpy()\n",
    "moving_var = model.layers[3].weights[3].numpy()\n",
    "epsilon = model.layers[3].epsilon"
   ]
  },
  {
   "cell_type": "code",
   "execution_count": 14,
   "metadata": {},
   "outputs": [
    {
     "data": {
      "text/plain": [
       "(array([ 7.476623, 12.203958, 11.305573,  7.275524], dtype=float32),\n",
       " array([ 1.0641948 , -0.2928645 ,  0.96127605, -1.3354607 ], dtype=float32))"
      ]
     },
     "execution_count": 14,
     "metadata": {},
     "output_type": "execute_result"
    }
   ],
   "source": [
    "a1 = gamma/(moving_var+epsilon)**.5\n",
    "b1 = beta-gamma*moving_mean/(moving_var+epsilon)**.5\n",
    "a1, b1"
   ]
  },
  {
   "cell_type": "code",
   "execution_count": 15,
   "metadata": {},
   "outputs": [],
   "source": [
    "gamma = model.layers[7].weights[0].numpy()\n",
    "beta = model.layers[7].weights[1].numpy()\n",
    "moving_mean = model.layers[7].weights[2].numpy()\n",
    "moving_var = model.layers[7].weights[3].numpy()\n",
    "epsilon = model.layers[7].epsilon"
   ]
  },
  {
   "cell_type": "code",
   "execution_count": 16,
   "metadata": {},
   "outputs": [
    {
     "data": {
      "text/plain": [
       "(array([1.8293172, 2.1094613, 2.1327975, 1.8025072, 2.0401976, 2.2244277,\n",
       "        2.00088  , 1.0940925], dtype=float32),\n",
       " array([-0.56788176,  3.609695  ,  1.9935554 ,  0.6033936 ,  0.6063134 ,\n",
       "        -1.7730187 ,  6.8325047 , -0.12943316], dtype=float32))"
      ]
     },
     "execution_count": 16,
     "metadata": {},
     "output_type": "execute_result"
    }
   ],
   "source": [
    "a2 = gamma/(moving_var+epsilon)**.5\n",
    "b2 = beta-gamma*moving_mean/(moving_var+epsilon)**.5\n",
    "a2, b2"
   ]
  },
  {
   "cell_type": "code",
   "execution_count": 17,
   "metadata": {},
   "outputs": [],
   "source": [
    "in_json = {\n",
    "    \"in\": X.astype(int).flatten().tolist(), # X is already 1000 times to begin with\n",
    "    \"conv2d_1_weights\": (model.layers[2].weights[0].numpy()*(10**3)).round().astype(int).flatten().tolist(),\n",
    "    \"conv2d_1_bias\": (np.array([0]*4)*(10**3)**2).round().astype(int).flatten().tolist(),\n",
    "    \"bn_1_a\": (a1*(10**3)).round().astype(int).flatten().tolist(),\n",
    "    \"bn_1_b\": (b1*(10**3)**3).round().astype(int).flatten().tolist(),\n",
    "    # average pooling will scale another 10**2 times\n",
    "    \"conv2d_2_weights\": (model.layers[6].weights[0].numpy()*(10**3)).round().astype(int).flatten().tolist(),\n",
    "    \"conv2d_2_bias\": (np.array([0]*8)*(10**(3*4+2))).round().astype(int).flatten().tolist(),\n",
    "    \"bn_2_a\": (a2*(10**3)).round().astype(int).flatten().tolist(),\n",
    "    \"bn_2_b\": (b2*(10**(3*5+2))).round().astype(int).flatten().tolist(),\n",
    "    # average pooling will scale another 10**2 times\n",
    "    \"dense_weights\":(model.layers[11].weights[0].numpy()*(10**3)).round().astype(int).flatten().tolist(),\n",
    "    \"dense_bias\": np.zeros(model.layers[11].weights[1].numpy().shape).tolist() # zero because we are not doing softmax in circom, just argmax\n",
    "}"
   ]
  },
  {
   "cell_type": "code",
   "execution_count": 18,
   "metadata": {},
   "outputs": [
    {
     "data": {
      "text/plain": [
       "{'scale': 1e-22,\n",
       " 'out': [-0.9809412956237793,\n",
       "  -2.2749931812286377,\n",
       "  6.040533065795898,\n",
       "  9.122146606445312,\n",
       "  -11.2403564453125,\n",
       "  -0.5773029327392578,\n",
       "  -17.33807945251465,\n",
       "  16.305007934570312,\n",
       "  -1.445622205734253,\n",
       "  2.890042781829834],\n",
       " 'label': 7}"
      ]
     },
     "execution_count": 18,
     "metadata": {},
     "output_type": "execute_result"
    }
   ],
   "source": [
    "out_json = {\n",
    "    \"scale\": 10**-22,\n",
    "    \"out\": y.flatten().tolist(),\n",
    "    \"label\": int(y.argmax())\n",
    "}\n",
    "out_json"
   ]
  },
  {
   "cell_type": "code",
   "execution_count": 19,
   "metadata": {},
   "outputs": [],
   "source": [
    "import json"
   ]
  },
  {
   "cell_type": "code",
   "execution_count": 20,
   "metadata": {},
   "outputs": [],
   "source": [
    "with open(\"mnist_latest_precision_input.json\", \"w\") as f:\n",
    "    json.dump(in_json, f)"
   ]
  },
  {
   "cell_type": "code",
   "execution_count": 21,
   "metadata": {},
   "outputs": [],
   "source": [
    "with open(\"mnist_latest_precision_output.json\", \"w\") as f:\n",
    "    json.dump(out_json, f)"
   ]
  },
  {
   "cell_type": "code",
   "execution_count": null,
   "metadata": {},
   "outputs": [],
   "source": []
  }
 ],
 "metadata": {
  "interpreter": {
   "hash": "11280bdb37aa6bc5d4cf1e4de756386eb1f9eecd8dcdefa77636dfac7be2370d"
  },
  "kernelspec": {
   "display_name": "Python 3.8.6 ('tf24')",
   "language": "python",
   "name": "python3"
  },
  "language_info": {
   "codemirror_mode": {
    "name": "ipython",
    "version": 3
   },
   "file_extension": ".py",
   "mimetype": "text/x-python",
   "name": "python",
   "nbconvert_exporter": "python",
   "pygments_lexer": "ipython3",
   "version": "3.8.6"
  },
  "orig_nbformat": 4
 },
 "nbformat": 4,
 "nbformat_minor": 2
}
